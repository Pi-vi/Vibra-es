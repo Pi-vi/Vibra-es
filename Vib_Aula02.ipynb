{
 "cells": [
  {
   "cell_type": "markdown",
   "metadata": {},
   "source": [
    "# Vibrações Mecânicas\n",
    "## Professor Paulo Victor\n",
    "## Fatores de Amortecimento"
   ]
  },
  {
   "cell_type": "code",
   "execution_count": 1,
   "metadata": {},
   "outputs": [
    {
     "data": {
      "image/svg+xml": [
       "<svg xmlns:dc=\"http://purl.org/dc/elements/1.1/\" xmlns:cc=\"http://creativecommons.org/ns#\" xmlns:rdf=\"http://www.w3.org/1999/02/22-rdf-syntax-ns#\" xmlns:svg=\"http://www.w3.org/2000/svg\" xmlns=\"http://www.w3.org/2000/svg\" xmlns:sodipodi=\"http://sodipodi.sourceforge.net/DTD/sodipodi-0.dtd\" xmlns:inkscape=\"http://www.inkscape.org/namespaces/inkscape\" width=\"80.035324mm\" height=\"57.330166mm\" viewBox=\"0 0 80.035324 57.330166\" version=\"1.1\" id=\"svg8\" inkscape:version=\"0.92.3 (2405546, 2018-03-11)\" sodipodi:docname=\"vibaula2.svg\">\n",
       "  <defs id=\"defs2\"/>\n",
       "  <sodipodi:namedview id=\"base\" pagecolor=\"#ffffff\" bordercolor=\"#666666\" borderopacity=\"1.0\" inkscape:pageopacity=\"0.0\" inkscape:pageshadow=\"2\" inkscape:zoom=\"1.7996241\" inkscape:cx=\"112.65648\" inkscape:cy=\"123.74575\" inkscape:document-units=\"mm\" inkscape:current-layer=\"layer1\" showgrid=\"false\" inkscape:snap-nodes=\"false\" inkscape:window-width=\"1299\" inkscape:window-height=\"713\" inkscape:window-x=\"67\" inkscape:window-y=\"27\" inkscape:window-maximized=\"1\"/>\n",
       "  <metadata id=\"metadata5\">\n",
       "    <rdf:RDF>\n",
       "      <cc:Work rdf:about=\"\">\n",
       "        <dc:format>image/svg+xml</dc:format>\n",
       "        <dc:type rdf:resource=\"http://purl.org/dc/dcmitype/StillImage\"/>\n",
       "        <dc:title/>\n",
       "      </cc:Work>\n",
       "    </rdf:RDF>\n",
       "  </metadata>\n",
       "  <g inkscape:label=\"Camada 1\" inkscape:groupmode=\"layer\" id=\"layer1\" transform=\"translate(-53.917156,-71.684242)\">\n",
       "    <rect style=\"fill:#ffffff;stroke:#000000;stroke-width:0.69999999;stroke-miterlimit:4;stroke-dasharray:none\" id=\"rect815\" width=\"32.570637\" height=\"30.276932\" x=\"96.335686\" y=\"82.767776\"/>\n",
       "    <ellipse style=\"fill:#ffffff;stroke:#000000;stroke-width:0.69999999;stroke-miterlimit:4;stroke-dasharray:none\" id=\"path817\" cx=\"100.9231\" cy=\"117.86149\" rx=\"4.5874162\" ry=\"4.816783\"/>\n",
       "    <ellipse ry=\"4.816783\" rx=\"4.5874162\" cy=\"117.86149\" cx=\"100.9231\" id=\"ellipse819\" style=\"fill:#ffffff;stroke:#000000;stroke-width:0.69999999;stroke-miterlimit:4;stroke-dasharray:none\"/>\n",
       "    <ellipse style=\"fill:#ffffff;stroke:#000000;stroke-width:0.69999999;stroke-miterlimit:4;stroke-dasharray:none\" id=\"ellipse821\" cx=\"123.14809\" cy=\"117.86149\" rx=\"4.5874162\" ry=\"4.816783\"/>\n",
       "    <path style=\"fill:none;stroke:#000000;stroke-width:0.69999999;stroke-linecap:butt;stroke-linejoin:miter;stroke-miterlimit:4;stroke-dasharray:none;stroke-opacity:1\" d=\"M 133.95248,122.67827 H 65.600018 V 71.987351\" id=\"path823\" inkscape:connector-curvature=\"0\"/>\n",
       "    <path style=\"fill:none;stroke:#000000;stroke-width:0.69999999;stroke-linecap:butt;stroke-linejoin:miter;stroke-miterlimit:4;stroke-dasharray:none;stroke-opacity:1\" d=\"M 65.600018,71.987351 54.336447,78.490375\" id=\"path825\" inkscape:connector-curvature=\"0\"/>\n",
       "    <path inkscape:connector-curvature=\"0\" id=\"path827\" d=\"M 65.600018,79.395689 54.336447,85.898713\" style=\"fill:none;stroke:#000000;stroke-width:0.69999999;stroke-linecap:butt;stroke-linejoin:miter;stroke-miterlimit:4;stroke-dasharray:none;stroke-opacity:1\"/>\n",
       "    <path style=\"fill:none;stroke:#000000;stroke-width:0.69999999;stroke-linecap:butt;stroke-linejoin:miter;stroke-miterlimit:4;stroke-dasharray:none;stroke-opacity:1\" d=\"M 65.600018,87.333194 54.336447,93.836218\" id=\"path829\" inkscape:connector-curvature=\"0\"/>\n",
       "    <path inkscape:connector-curvature=\"0\" id=\"path831\" d=\"M 65.600018,96.329033 54.336447,102.83207\" style=\"fill:none;stroke:#000000;stroke-width:0.69999999;stroke-linecap:butt;stroke-linejoin:miter;stroke-miterlimit:4;stroke-dasharray:none;stroke-opacity:1\"/>\n",
       "    <path style=\"fill:none;stroke:#000000;stroke-width:0.69999999;stroke-linecap:butt;stroke-linejoin:miter;stroke-miterlimit:4;stroke-dasharray:none;stroke-opacity:1\" d=\"m 65.600018,105.3249 -11.263571,6.50306\" id=\"path833\" inkscape:connector-curvature=\"0\"/>\n",
       "    <path inkscape:connector-curvature=\"0\" id=\"path835\" d=\"m 65.600018,112.73328 -11.263571,6.50306\" style=\"fill:none;stroke:#000000;stroke-width:0.69999999;stroke-linecap:butt;stroke-linejoin:miter;stroke-miterlimit:4;stroke-dasharray:none;stroke-opacity:1\"/>\n",
       "    <path style=\"fill:none;stroke:#000000;stroke-width:0.69999999;stroke-linecap:butt;stroke-linejoin:miter;stroke-miterlimit:4;stroke-dasharray:none;stroke-opacity:1\" d=\"M 64.541684,122.67827 54.092156,128.7113\" id=\"path841\" inkscape:connector-curvature=\"0\"/>\n",
       "    <path inkscape:connector-curvature=\"0\" id=\"path843\" d=\"M 75.125024,122.67827 64.675496,128.7113\" style=\"fill:none;stroke:#000000;stroke-width:0.69999999;stroke-linecap:butt;stroke-linejoin:miter;stroke-miterlimit:4;stroke-dasharray:none;stroke-opacity:1\"/>\n",
       "    <path style=\"fill:none;stroke:#000000;stroke-width:0.69999999;stroke-linecap:butt;stroke-linejoin:miter;stroke-miterlimit:4;stroke-dasharray:none;stroke-opacity:1\" d=\"M 86.766698,122.67827 76.31717,128.7113\" id=\"path845\" inkscape:connector-curvature=\"0\"/>\n",
       "    <path inkscape:connector-curvature=\"0\" id=\"path847\" d=\"M 97.350038,122.67827 86.90051,128.7113\" style=\"fill:none;stroke:#000000;stroke-width:0.69999999;stroke-linecap:butt;stroke-linejoin:miter;stroke-miterlimit:4;stroke-dasharray:none;stroke-opacity:1\"/>\n",
       "    <path style=\"fill:none;stroke:#000000;stroke-width:0.69999999;stroke-linecap:butt;stroke-linejoin:miter;stroke-miterlimit:4;stroke-dasharray:none;stroke-opacity:1\" d=\"M 107.40425,122.67827 96.954683,128.7113\" id=\"path849\" inkscape:connector-curvature=\"0\"/>\n",
       "    <path inkscape:connector-curvature=\"0\" id=\"path851\" d=\"m 117.98765,122.67827 -10.44959,6.03303\" style=\"fill:none;stroke:#000000;stroke-width:0.69999999;stroke-linecap:butt;stroke-linejoin:miter;stroke-miterlimit:4;stroke-dasharray:none;stroke-opacity:1\"/>\n",
       "    <path style=\"fill:none;stroke:#000000;stroke-width:0.69999999;stroke-linecap:butt;stroke-linejoin:miter;stroke-miterlimit:4;stroke-dasharray:none;stroke-opacity:1\" d=\"M 129.62939,122.67827 119.1798,128.7113\" id=\"path853\" inkscape:connector-curvature=\"0\"/>\n",
       "    <path style=\"fill:none;stroke:#000000;stroke-width:0.69999999;stroke-linecap:butt;stroke-linejoin:miter;stroke-miterlimit:4;stroke-dasharray:none;stroke-opacity:1\" d=\"m 96.106317,91.483859 -9.404196,0.22937 c 0,0 -2.064337,-7.110492 -2.293707,-6.193007 -0.22937,0.917482 -4.816785,10.780421 -4.816785,10.780421 L 75.692327,84.83211 71.793025,95.612531 70.416803,89.190152 65.370646,89.419521\" id=\"path857\" inkscape:connector-curvature=\"0\"/>\n",
       "    <path style=\"fill:none;stroke:#000000;stroke-width:0.69999999;stroke-linecap:butt;stroke-linejoin:miter;stroke-miterlimit:4;stroke-dasharray:none;stroke-opacity:1\" d=\"m 96.33569,106.62232 -13.303501,0.22937\" id=\"path859\" inkscape:connector-curvature=\"0\"/>\n",
       "    <path style=\"fill:none;stroke:#000000;stroke-width:0.69999999;stroke-linecap:butt;stroke-linejoin:miter;stroke-miterlimit:4;stroke-dasharray:none;stroke-opacity:1\" d=\"m 76.74519,100.0706 5.828259,-0.100024 -0.229373,11.697904 -5.275524,0.22937\" id=\"path861\" inkscape:connector-curvature=\"0\" sodipodi:nodetypes=\"cccc\"/>\n",
       "    <path style=\"fill:none;stroke:#000000;stroke-width:0.69999999;stroke-linecap:butt;stroke-linejoin:miter;stroke-miterlimit:4;stroke-dasharray:none;stroke-opacity:1\" d=\"m 78.068383,101.60851 v 8.2332\" id=\"path865\" inkscape:connector-curvature=\"0\"/>\n",
       "    <path style=\"fill:none;stroke:#000000;stroke-width:0.69999999;stroke-linecap:butt;stroke-linejoin:miter;stroke-miterlimit:4;stroke-dasharray:none;stroke-opacity:1\" d=\"M 78.068383,105.72511 65.277518,105.57808\" id=\"path867\" inkscape:connector-curvature=\"0\"/>\n",
       "    <text xml:space=\"preserve\" style=\"font-style:normal;font-weight:normal;font-size:10.58333302px;line-height:1.25;font-family:sans-serif;letter-spacing:0px;word-spacing:0px;fill:#000000;fill-opacity:1;stroke:#000000;stroke-width:0.69999999;stroke-miterlimit:4;stroke-dasharray:none\" x=\"107.91373\" y=\"101.31446\" id=\"text871\"><tspan sodipodi:role=\"line\" id=\"tspan869\" x=\"107.91373\" y=\"101.31446\" style=\"stroke:#000000;stroke-width:0.69999999;stroke-miterlimit:4;stroke-dasharray:none\">m</tspan></text>\n",
       "    <text xml:space=\"preserve\" style=\"font-style:normal;font-weight:normal;font-size:10.58333302px;line-height:1.25;font-family:sans-serif;letter-spacing:0px;word-spacing:0px;fill:#000000;fill-opacity:1;stroke:#000000;stroke-width:0.69999999;stroke-miterlimit:4;stroke-dasharray:none\" x=\"75.716042\" y=\"83.671898\" id=\"text875\"><tspan sodipodi:role=\"line\" id=\"tspan873\" x=\"75.716042\" y=\"83.671898\" style=\"font-style:normal;font-variant:normal;font-weight:normal;font-stretch:normal;font-family:sans-serif;-inkscape-font-specification:sans-serif;stroke:#000000;stroke-width:0.69999999;stroke-miterlimit:4;stroke-dasharray:none\">k</tspan></text>\n",
       "    <text xml:space=\"preserve\" style=\"font-style:normal;font-weight:normal;font-size:10.58333302px;line-height:1.25;font-family:sans-serif;letter-spacing:0px;word-spacing:0px;fill:#000000;fill-opacity:1;stroke:#000000;stroke-width:0.69999999;stroke-miterlimit:4;stroke-dasharray:none\" x=\"81.596893\" y=\"120.28024\" id=\"text879\"><tspan sodipodi:role=\"line\" id=\"tspan877\" x=\"81.596893\" y=\"120.28024\" style=\"stroke:#000000;stroke-width:0.69999999;stroke-miterlimit:4;stroke-dasharray:none\">c</tspan></text>\n",
       "  </g>\n",
       "</svg>"
      ],
      "text/plain": [
       "<IPython.core.display.SVG object>"
      ]
     },
     "execution_count": 1,
     "metadata": {},
     "output_type": "execute_result"
    }
   ],
   "source": [
    "import numpy as np\n",
    "import cmath as cm\n",
    "import matplotlib as mpl\n",
    "import matplotlib.pyplot as plt\n",
    "from ipywidgets import interact,interactive,fixed,interact_manual\n",
    "import ipywidgets as widgets\n",
    "from IPython.core.display import SVG\n",
    "SVG(filename='vibaula2.svg')"
   ]
  },
  {
   "cell_type": "markdown",
   "metadata": {},
   "source": [
    "$$ x(t) = A.e^{s_{1}t} + B.e^{s_{2}t} $$\n",
    "$$ s_{1,2} = \\omega_{n}\\left(-\\zeta \\pm \\sqrt{\\zeta^{2}-1}\\right) $$\n",
    "$$ \\zeta = \\dfrac{c}{c_{c}}$$\n",
    "$$ A = \\dfrac{\\dfrac{v_{0}}{\\omega_{n}} +  \\left(\\zeta + \\sqrt{\\zeta^{2}-1}\\right)x_{0}}{2\\sqrt{\\zeta^2-1}} $$\n",
    "$$ B = -\\dfrac{\\dfrac{v_{0}}{\\omega_{n}} +  \\left(\\zeta - \\sqrt{\\zeta^{2}-1}\\right)x_{0}}{2\\sqrt{\\zeta^2-1}} $$"
   ]
  },
  {
   "cell_type": "code",
   "execution_count": 2,
   "metadata": {},
   "outputs": [],
   "source": [
    "plt.rcParams['figure.figsize']=(6,3)\n",
    "plt.rcParams['figure.dpi']=150"
   ]
  },
  {
   "cell_type": "code",
   "execution_count": 3,
   "metadata": {},
   "outputs": [],
   "source": [
    "t = np.linspace(0,10,1000)\n",
    "xo = 1\n",
    "vo = -4.5\n",
    "wn = 3"
   ]
  },
  {
   "cell_type": "code",
   "execution_count": 4,
   "metadata": {},
   "outputs": [],
   "source": [
    "def f(zeta):\n",
    "    s1 = wn*(-zeta + cm.sqrt(zeta**2-1))\n",
    "    s2 = wn*(-zeta - cm.sqrt(zeta**2-1))\n",
    "    A = (vo/wn + (zeta+cm.sqrt(zeta**2-1))*xo)/(2*cm.sqrt(zeta**2-1))\n",
    "    B = (-1)*(vo/wn + (zeta-cm.sqrt(zeta**2-1))*xo)/(2*cm.sqrt(zeta**2-1))\n",
    "    x = A*np.e**(s1*t) + B*np.e**(s2*t)\n",
    "    plt.plot(t,x)\n",
    "    plt.ylim(-2,2)\n",
    "    plt.xlim(0,10)\n",
    "    plt.xlabel('Tempo[s]')\n",
    "    plt.ylabel('Amplitude[m]')\n",
    "    plt.grid('True')"
   ]
  },
  {
   "cell_type": "code",
   "execution_count": 5,
   "metadata": {},
   "outputs": [
    {
     "data": {
      "application/vnd.jupyter.widget-view+json": {
       "model_id": "7fa077e560c649d58303a444dd08f4f1",
       "version_major": 2,
       "version_minor": 0
      },
      "text/plain": [
       "interactive(children=(FloatSlider(value=1.005, description='zeta', max=2.0, min=0.01), Output()), _dom_classes…"
      ]
     },
     "metadata": {},
     "output_type": "display_data"
    },
    {
     "data": {
      "text/plain": [
       "<function __main__.f(zeta)>"
      ]
     },
     "execution_count": 5,
     "metadata": {},
     "output_type": "execute_result"
    }
   ],
   "source": [
    "interact(f,zeta=(0.01,2))"
   ]
  },
  {
   "cell_type": "code",
   "execution_count": null,
   "metadata": {},
   "outputs": [],
   "source": []
  }
 ],
 "metadata": {
  "kernelspec": {
   "display_name": "Python 3",
   "language": "python",
   "name": "python3"
  },
  "language_info": {
   "codemirror_mode": {
    "name": "ipython",
    "version": 3
   },
   "file_extension": ".py",
   "mimetype": "text/x-python",
   "name": "python",
   "nbconvert_exporter": "python",
   "pygments_lexer": "ipython3",
   "version": "3.8.2"
  }
 },
 "nbformat": 4,
 "nbformat_minor": 4
}
