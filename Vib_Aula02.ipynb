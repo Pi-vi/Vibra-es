{
 "cells": [
  {
   "cell_type": "markdown",
   "metadata": {},
   "source": [
    "# Vibrações Mecânicas\n",
    "## Professor Paulo Victor\n",
    "## Fatores de Amortecimento"
   ]
  },
  {
   "cell_type": "code",
   "execution_count": 1,
   "metadata": {},
   "outputs": [
    {
     "data": {
      "image/svg+xml": [
       "<svg xmlns:dc=\"http://purl.org/dc/elements/1.1/\" xmlns:cc=\"http://creativecommons.org/ns#\" xmlns:rdf=\"http://www.w3.org/1999/02/22-rdf-syntax-ns#\" xmlns:svg=\"http://www.w3.org/2000/svg\" xmlns=\"http://www.w3.org/2000/svg\" xmlns:sodipodi=\"http://sodipodi.sourceforge.net/DTD/sodipodi-0.dtd\" xmlns:inkscape=\"http://www.inkscape.org/namespaces/inkscape\" width=\"140.28731mm\" height=\"103.10243mm\" viewBox=\"0 0 140.28731 103.10243\" version=\"1.1\" id=\"svg8\" inkscape:version=\"1.0.1 (3bc2e813f5, 2020-09-07)\" sodipodi:docname=\"vibaula2.svg\" inkscape:export-filename=\"/home/pv/Dropbox/Programação/Python/Python Notebook/massa-mola-amortecedor-força.svg.png\" inkscape:export-xdpi=\"96\" inkscape:export-ydpi=\"96\">\n",
       "  <defs id=\"defs2\">\n",
       "    <marker inkscape:stockid=\"Arrow1Lend\" orient=\"auto\" refY=\"0\" refX=\"0\" id=\"marker2057\" style=\"overflow:visible\" inkscape:isstock=\"true\">\n",
       "      <path id=\"path2055\" d=\"M 0,0 5,-5 -12.5,0 5,5 Z\" style=\"fill:#000000;fill-opacity:1;fill-rule:evenodd;stroke:#000000;stroke-width:1.00000003pt;stroke-opacity:1\" transform=\"matrix(-0.8,0,0,-0.8,-10,0)\" inkscape:connector-curvature=\"0\"/>\n",
       "    </marker>\n",
       "    <marker inkscape:stockid=\"Arrow1Lend\" orient=\"auto\" refY=\"0\" refX=\"0\" id=\"Arrow1Lend\" style=\"overflow:visible\" inkscape:isstock=\"true\">\n",
       "      <path id=\"path1774\" d=\"M 0,0 5,-5 -12.5,0 5,5 Z\" style=\"fill:#000000;fill-opacity:1;fill-rule:evenodd;stroke:#000000;stroke-width:1.00000003pt;stroke-opacity:1\" transform=\"matrix(-0.8,0,0,-0.8,-10,0)\" inkscape:connector-curvature=\"0\"/>\n",
       "    </marker>\n",
       "  </defs>\n",
       "  <sodipodi:namedview id=\"base\" pagecolor=\"#ffffff\" bordercolor=\"#666666\" borderopacity=\"1.0\" inkscape:pageopacity=\"0.0\" inkscape:pageshadow=\"2\" inkscape:zoom=\"1.4517403\" inkscape:cx=\"283.29529\" inkscape:cy=\"199.21234\" inkscape:document-units=\"mm\" inkscape:current-layer=\"layer1\" showgrid=\"false\" showguides=\"true\" inkscape:guide-bbox=\"true\" inkscape:snap-nodes=\"true\" inkscape:window-width=\"1920\" inkscape:window-height=\"1016\" inkscape:window-x=\"0\" inkscape:window-y=\"27\" inkscape:window-maximized=\"1\" inkscape:document-rotation=\"0\">\n",
       "    <sodipodi:guide position=\"35.204637,62.200858\" orientation=\"1,0\" id=\"guide823\" inkscape:locked=\"false\"/>\n",
       "    <sodipodi:guide position=\"14.590321,45.192507\" orientation=\"1,0\" id=\"guide1733\" inkscape:locked=\"false\"/>\n",
       "    <sodipodi:guide position=\"90.316246,14.756337\" orientation=\"0,1\" id=\"guide1737\" inkscape:locked=\"false\"/>\n",
       "  </sodipodi:namedview>\n",
       "  <metadata id=\"metadata5\">\n",
       "    <rdf:RDF>\n",
       "      <cc:Work rdf:about=\"\">\n",
       "        <dc:format>image/svg+xml</dc:format>\n",
       "        <dc:type rdf:resource=\"http://purl.org/dc/dcmitype/StillImage\"/>\n",
       "        <dc:title/>\n",
       "      </cc:Work>\n",
       "    </rdf:RDF>\n",
       "  </metadata>\n",
       "  <g inkscape:label=\"Camada 1\" inkscape:groupmode=\"layer\" id=\"layer1\" transform=\"translate(-47.648916,-51.369967)\">\n",
       "    <g id=\"layer1-6\" inkscape:label=\"Layer 1\" transform=\"translate(-14.635695,10.956153)\">\n",
       "      <rect style=\"fill:#ffffff;stroke:#000000;stroke-width:0.7;stroke-miterlimit:4;stroke-dasharray:none\" id=\"rect1718\" width=\"16.510056\" height=\"2.1250565\" x=\"101.72212\" y=\"108.30544\"/>\n",
       "      <rect style=\"fill:#ffffff;stroke:#000000;stroke-width:0.810846;stroke-miterlimit:4;stroke-dasharray:none\" id=\"rect1731\" width=\"15.094382\" height=\"2.0999031\" x=\"76.874931\" y=\"108.44493\"/>\n",
       "      <rect y=\"104.7997\" x=\"92.554405\" height=\"9.2270832\" width=\"7.2063184\" id=\"rect3464\" style=\"fill:#808080;stroke:#808080;stroke-width:0.7\"/>\n",
       "      <path style=\"fill:#ffffff;stroke:#000000;stroke-width:0.7;stroke-miterlimit:4;stroke-dasharray:none\" d=\"m 88.29373,103.05019 v 2.14922 h 11.466999 v 8.82737 H 88.29373 v 2.14922 h 13.28911 v -13.12581 z\" id=\"rect1720\" inkscape:connector-curvature=\"0\"/>\n",
       "      <rect style=\"fill:#ffffff;stroke:#000000;stroke-width:0.822563;stroke-miterlimit:4;stroke-dasharray:none\" id=\"rect1729\" width=\"2.6107433\" height=\"7.8277359\" x=\"91.626671\" y=\"105.74422\"/>\n",
       "    </g>\n",
       "    <g transform=\"matrix(0,0.55477926,-0.47069898,0,125.15734,41.21224)\" id=\"g1676\" style=\"stroke-width:1.36982882;stroke-miterlimit:4;stroke-dasharray:none\">\n",
       "      <path sodipodi:nodetypes=\"ccccc\" inkscape:connector-curvature=\"0\" id=\"path823\" d=\"m 125.39698,74.915819 c -10.00147,-1.638765 -17.7601,-4.65467 -27.042768,-9.168613 -1.17318,1.142194 -2.185511,0.865958 -1.389185,2.500529 8.102963,5.187013 16.657463,8.517084 27.227993,10.743022 1.45825,-0.60336 1.45345,-2.251762 1.20396,-4.074938 z\" style=\"fill:#cccccc;stroke:#000000;stroke-width:1.36982882;stroke-linecap:butt;stroke-linejoin:miter;stroke-miterlimit:4;stroke-dasharray:none;stroke-opacity:1\"/>\n",
       "      <path style=\"fill:#cccccc;stroke:#000000;stroke-width:1.36982882;stroke-linecap:butt;stroke-linejoin:miter;stroke-miterlimit:4;stroke-dasharray:none;stroke-opacity:1\" d=\"m 125.39698,96.611666 c -10.00147,-1.638765 -17.7601,-4.65467 -27.042768,-9.168613 -1.17318,1.142194 -2.185511,0.865958 -1.389185,2.500529 8.102963,5.187013 16.657463,8.517084 27.227993,10.743028 1.45825,-0.60337 1.45345,-2.251768 1.20396,-4.074944 z\" id=\"path827\" inkscape:connector-curvature=\"0\" sodipodi:nodetypes=\"ccccc\"/>\n",
       "      <path sodipodi:nodetypes=\"ccccc\" inkscape:connector-curvature=\"0\" id=\"path817-3\" d=\"m 94.784176,87.13617 c 11.249174,-2.051468 20.817344,-6.726658 29.363664,-12.954555 1.8425,0.579302 3.44646,1.33751 2.375,4.102277 -9.32618,5.603188 -19.17851,10.304415 -30.227298,12.954555 -0.972941,-0.764229 -2.197649,-1.204759 -1.511366,-4.102277 z\" style=\"fill:#ffffff;stroke:#000000;stroke-width:1.36982882;stroke-linecap:butt;stroke-linejoin:miter;stroke-miterlimit:4;stroke-dasharray:none;stroke-opacity:1\"/>\n",
       "      <path style=\"fill:#ffffff;stroke:#000000;stroke-width:1.36982882;stroke-linecap:butt;stroke-linejoin:miter;stroke-miterlimit:4;stroke-dasharray:none;stroke-opacity:1\" d=\"m 94.784176,64.911156 c 11.249174,-2.051468 20.817344,-6.726658 29.363664,-12.954555 1.8425,0.579302 3.44646,1.33751 2.375,4.102277 -9.32618,5.603188 -19.17851,10.304415 -30.227298,12.954555 -0.972941,-0.764229 -2.197649,-1.204759 -1.511366,-4.102277 z\" id=\"path825\" inkscape:connector-curvature=\"0\" sodipodi:nodetypes=\"ccccc\"/>\n",
       "      <path sodipodi:nodetypes=\"ccccc\" inkscape:connector-curvature=\"0\" id=\"path839-6\" d=\"m 125.39698,118.83678 c -10.00147,-1.63877 -17.7601,-4.65469 -27.042768,-9.16866 -1.17318,1.1422 -2.185511,0.86596 -1.389185,2.50054 8.102963,5.18704 16.657463,8.51714 27.227993,10.74309 1.45825,-0.60337 1.45345,-2.25178 1.20396,-4.07497 z\" style=\"fill:#cccccc;stroke:#000000;stroke-width:1.36982882;stroke-linecap:butt;stroke-linejoin:miter;stroke-miterlimit:4;stroke-dasharray:none;stroke-opacity:1\"/>\n",
       "      <path style=\"fill:#ffffff;stroke:#000000;stroke-width:1.36982882;stroke-linecap:butt;stroke-linejoin:miter;stroke-miterlimit:4;stroke-dasharray:none;stroke-opacity:1\" d=\"m 94.784176,108.83206 c 11.249174,-2.05148 20.817344,-6.72669 29.363664,-12.954598 1.8425,0.579302 3.44646,1.33751 2.375,4.102277 -9.32618,5.603221 -19.17851,10.304471 -30.227298,12.954631 -0.972941,-0.76424 -2.197649,-1.20477 -1.511366,-4.10231 z\" id=\"path829\" inkscape:connector-curvature=\"0\" sodipodi:nodetypes=\"ccccc\"/>\n",
       "      <path sodipodi:nodetypes=\"ccccc\" inkscape:connector-curvature=\"0\" id=\"path833\" d=\"m 94.784176,130.52803 c 11.249174,-2.05148 20.817344,-6.72669 29.363664,-12.95462 1.8425,0.5793 3.44646,1.33751 2.375,4.1023 -9.32618,5.60322 -19.17851,10.30447 -30.227298,12.95463 -0.972941,-0.76424 -2.197649,-1.20477 -1.511366,-4.10231 z\" style=\"fill:#ffffff;stroke:#000000;stroke-width:1.36982882;stroke-linecap:butt;stroke-linejoin:miter;stroke-miterlimit:4;stroke-dasharray:none;stroke-opacity:1\"/>\n",
       "    </g>\n",
       "    <rect style=\"fill:#ffffff;stroke:#000000;stroke-width:0.69999999;stroke-miterlimit:4;stroke-dasharray:none\" id=\"rect815\" width=\"41.159508\" height=\"33.675961\" x=\"99.15699\" y=\"95.478775\"/>\n",
       "    <circle style=\"fill:#ffffff;stroke:#000000;stroke-width:0.69999999;stroke-miterlimit:4;stroke-dasharray:none\" id=\"path817\" cx=\"106.23963\" cy=\"134.3665\" r=\"5.2117558\"/>\n",
       "    <circle r=\"5.2117558\" cy=\"134.3665\" cx=\"132.69772\" id=\"circle819\" style=\"fill:#ffffff;stroke:#000000;stroke-width:0.69999999;stroke-miterlimit:4;stroke-dasharray:none\"/>\n",
       "    <path style=\"fill:none;stroke:#000000;stroke-width:0.69999999;stroke-linecap:butt;stroke-linejoin:miter;stroke-miterlimit:4;stroke-dasharray:none;stroke-opacity:1\" d=\"M 62.239236,83.946793 V 137.52903\" id=\"path1735\" inkscape:connector-curvature=\"0\"/>\n",
       "    <path style=\"fill:none;stroke:#000000;stroke-width:0.69999999;stroke-linecap:butt;stroke-linejoin:miter;stroke-miterlimit:4;stroke-dasharray:none;stroke-opacity:1\" d=\"M 68.344697,139.71606 H 160.01772\" id=\"path1739\" inkscape:connector-curvature=\"0\"/>\n",
       "    <path style=\"fill:none;stroke:#000000;stroke-width:0.69999999;stroke-linecap:butt;stroke-linejoin:miter;stroke-miterlimit:4;stroke-dasharray:none;stroke-opacity:1\" d=\"M 62.239236,83.946793 47.739503,87.831984\" id=\"path1741\" inkscape:connector-curvature=\"0\"/>\n",
       "    <path inkscape:connector-curvature=\"0\" id=\"path1743\" d=\"M 62.239236,93.471799 47.739503,97.35699\" style=\"fill:none;stroke:#000000;stroke-width:0.69999999;stroke-linecap:butt;stroke-linejoin:miter;stroke-miterlimit:4;stroke-dasharray:none;stroke-opacity:1\"/>\n",
       "    <path style=\"fill:none;stroke:#000000;stroke-width:0.69999999;stroke-linecap:butt;stroke-linejoin:miter;stroke-miterlimit:4;stroke-dasharray:none;stroke-opacity:1\" d=\"m 62.239236,101.93848 -14.499733,3.88521\" id=\"path1745\" inkscape:connector-curvature=\"0\"/>\n",
       "    <path inkscape:connector-curvature=\"0\" id=\"path1747\" d=\"m 62.239236,109.87603 -14.499733,3.88521\" style=\"fill:none;stroke:#000000;stroke-width:0.69999999;stroke-linecap:butt;stroke-linejoin:miter;stroke-miterlimit:4;stroke-dasharray:none;stroke-opacity:1\"/>\n",
       "    <path style=\"fill:none;stroke:#000000;stroke-width:0.69999999;stroke-linecap:butt;stroke-linejoin:miter;stroke-miterlimit:4;stroke-dasharray:none;stroke-opacity:1\" d=\"m 62.239236,118.34275 -14.499733,3.88521\" id=\"path1749\" inkscape:connector-curvature=\"0\"/>\n",
       "    <path inkscape:connector-curvature=\"0\" id=\"path1751\" d=\"m 62.239236,126.80947 -14.499733,3.88521\" style=\"fill:none;stroke:#000000;stroke-width:0.69999999;stroke-linecap:butt;stroke-linejoin:miter;stroke-miterlimit:4;stroke-dasharray:none;stroke-opacity:1\"/>\n",
       "    <path style=\"fill:none;stroke:#000000;stroke-width:0.69999999;stroke-linecap:butt;stroke-linejoin:miter;stroke-miterlimit:4;stroke-dasharray:none;stroke-opacity:1\" d=\"m 62.239236,133.68868 -14.499733,3.88521\" id=\"path1753\" inkscape:connector-curvature=\"0\"/>\n",
       "    <path style=\"fill:none;stroke:#000000;stroke-width:0.69999999;stroke-linecap:butt;stroke-linejoin:miter;stroke-miterlimit:4;stroke-dasharray:none;stroke-opacity:1\" d=\"M 68.344697,139.71606 82.85355,154.22491\" id=\"path1755\" inkscape:connector-curvature=\"0\"/>\n",
       "    <path inkscape:connector-curvature=\"0\" id=\"path1757\" d=\"m 82.103039,139.71606 14.508853,14.50885\" style=\"fill:none;stroke:#000000;stroke-width:0.69999999;stroke-linecap:butt;stroke-linejoin:miter;stroke-miterlimit:4;stroke-dasharray:none;stroke-opacity:1\"/>\n",
       "    <path style=\"fill:none;stroke:#000000;stroke-width:0.69999999;stroke-linecap:butt;stroke-linejoin:miter;stroke-miterlimit:4;stroke-dasharray:none;stroke-opacity:1\" d=\"m 95.332214,139.71606 14.508906,14.50885\" id=\"path1759\" inkscape:connector-curvature=\"0\"/>\n",
       "    <path inkscape:connector-curvature=\"0\" id=\"path1761\" d=\"m 108.03227,139.71606 14.50893,14.50885\" style=\"fill:none;stroke:#000000;stroke-width:0.69999999;stroke-linecap:butt;stroke-linejoin:miter;stroke-miterlimit:4;stroke-dasharray:none;stroke-opacity:1\"/>\n",
       "    <path style=\"fill:none;stroke:#000000;stroke-width:0.69999999;stroke-linecap:butt;stroke-linejoin:miter;stroke-miterlimit:4;stroke-dasharray:none;stroke-opacity:1\" d=\"m 121.26152,139.71606 14.50893,14.50885\" id=\"path1763\" inkscape:connector-curvature=\"0\"/>\n",
       "    <path inkscape:connector-curvature=\"0\" id=\"path1765\" d=\"m 135.54911,139.71606 14.50893,14.50885\" style=\"fill:none;stroke:#000000;stroke-width:0.69999999;stroke-linecap:butt;stroke-linejoin:miter;stroke-miterlimit:4;stroke-dasharray:none;stroke-opacity:1\"/>\n",
       "    <path style=\"fill:none;stroke:#000000;stroke-width:0.69999999;stroke-linecap:butt;stroke-linejoin:miter;stroke-miterlimit:4;stroke-dasharray:none;stroke-opacity:1\" d=\"m 148.77836,139.71606 14.50893,14.50885\" id=\"path1767\" inkscape:connector-curvature=\"0\"/>\n",
       "    <path style=\"fill:none;stroke:#000000;stroke-width:0.69999999;stroke-linecap:butt;stroke-linejoin:miter;stroke-miterlimit:4;stroke-dasharray:none;stroke-opacity:1;marker-end:url(#Arrow1Lend)\" d=\"M 118.56224,95.44419 V 67.607841 h 25.25891\" id=\"path1769\" inkscape:connector-curvature=\"0\"/>\n",
       "    <path style=\"fill:none;stroke:#000000;stroke-width:1.5;stroke-linecap:butt;stroke-linejoin:miter;stroke-miterlimit:4;stroke-dasharray:none;stroke-opacity:1;marker-end:url(#marker2057)\" d=\"M 140.98597,112.71304 H 180.4208\" id=\"path2053\" inkscape:connector-curvature=\"0\"/>\n",
       "    <path style=\"fill:none;stroke:#000000;stroke-width:0.69999999;stroke-linecap:butt;stroke-linejoin:miter;stroke-miterlimit:4;stroke-dasharray:none;stroke-opacity:1\" d=\"M 118.56224,67.607841 V 51.369967\" id=\"path2083\" inkscape:connector-curvature=\"0\"/>\n",
       "    <text xml:space=\"preserve\" style=\"font-style:normal;font-weight:normal;font-size:10.5833px;line-height:1.25;font-family:sans-serif;letter-spacing:0px;word-spacing:0px;fill:#000000;fill-opacity:1;stroke:none;stroke-width:0.264583\" x=\"141.2437\" y=\"63.483932\" id=\"text2087\"><tspan sodipodi:role=\"line\" id=\"tspan2085\" x=\"141.2437\" y=\"63.483932\" style=\"font-style:normal;font-variant:normal;font-weight:normal;font-stretch:normal;font-family:'TeX Gyre Adventor';-inkscape-font-specification:'TeX Gyre Adventor';stroke-width:0.264583\">x</tspan></text>\n",
       "    <text xml:space=\"preserve\" style=\"font-style:normal;font-weight:normal;font-size:15.7489px;line-height:1.25;font-family:sans-serif;letter-spacing:0px;word-spacing:0px;fill:#000000;fill-opacity:1;stroke:none;stroke-width:0.393723\" x=\"111.6495\" y=\"116.32146\" id=\"text2091\"><tspan sodipodi:role=\"line\" id=\"tspan2089\" x=\"111.6495\" y=\"116.32146\" style=\"font-style:normal;font-variant:normal;font-weight:normal;font-stretch:normal;font-family:'TeX Gyre Adventor';-inkscape-font-specification:'TeX Gyre Adventor';stroke-width:0.393723\">m</tspan></text>\n",
       "    <text xml:space=\"preserve\" style=\"font-style:normal;font-weight:normal;font-size:14.2245px;line-height:1.25;font-family:sans-serif;letter-spacing:0px;word-spacing:0px;fill:#000000;fill-opacity:1;stroke:none;stroke-width:0.355613\" x=\"165.7104\" y=\"100.65942\" id=\"text2095\"><tspan sodipodi:role=\"line\" id=\"tspan2093\" x=\"165.7104\" y=\"100.65942\" style=\"font-style:normal;font-variant:normal;font-weight:normal;font-stretch:normal;font-family:'TeX Gyre Adventor';-inkscape-font-specification:'TeX Gyre Adventor';stroke-width:0.355613\">F(t) </tspan></text>\n",
       "    <text xml:space=\"preserve\" style=\"font-style:normal;font-weight:normal;font-size:10.5833px;line-height:1.25;font-family:sans-serif;fill:#000000;fill-opacity:1;stroke:none;stroke-width:0.264583\" x=\"78.54834\" y=\"90.64019\" id=\"text1116\"><tspan sodipodi:role=\"line\" id=\"tspan1114\" x=\"78.54834\" y=\"90.64019\" style=\"stroke-width:0.264583\">k</tspan></text>\n",
       "    <text xml:space=\"preserve\" style=\"font-style:normal;font-weight:normal;font-size:10.5833px;line-height:1.25;font-family:sans-serif;fill:#000000;fill-opacity:1;stroke:none;stroke-width:0.264583\" x=\"80.059952\" y=\"134.88943\" id=\"text1120\"><tspan sodipodi:role=\"line\" id=\"tspan1118\" x=\"80.059952\" y=\"134.88943\" style=\"stroke-width:0.264583\">c</tspan></text>\n",
       "  </g>\n",
       "</svg>"
      ],
      "text/plain": [
       "<IPython.core.display.SVG object>"
      ]
     },
     "execution_count": 1,
     "metadata": {},
     "output_type": "execute_result"
    }
   ],
   "source": [
    "import numpy as np\n",
    "import cmath as cm\n",
    "import matplotlib as mpl\n",
    "import matplotlib.pyplot as plt\n",
    "from ipywidgets import interact,interactive,fixed,interact_manual\n",
    "import ipywidgets as widgets\n",
    "from IPython.core.display import SVG\n",
    "SVG(filename='vibaula2.svg')"
   ]
  },
  {
   "cell_type": "markdown",
   "metadata": {},
   "source": [
    "$$ x(t) = A.e^{s_{1}t} + B.e^{s_{2}t} $$\n",
    "$$ s_{1,2} = \\omega_{n}\\left(-\\zeta \\pm \\sqrt{\\zeta^{2}-1}\\right) $$\n",
    "$$ \\zeta = \\dfrac{c}{c_{c}}$$\n",
    "$$ A = \\dfrac{\\dfrac{v_{0}}{\\omega_{n}} +  \\left(\\zeta + \\sqrt{\\zeta^{2}-1}\\right)x_{0}}{2\\sqrt{\\zeta^2-1}} $$\n",
    "$$ B = -\\dfrac{\\dfrac{v_{0}}{\\omega_{n}} +  \\left(\\zeta - \\sqrt{\\zeta^{2}-1}\\right)x_{0}}{2\\sqrt{\\zeta^2-1}} $$"
   ]
  },
  {
   "cell_type": "code",
   "execution_count": 2,
   "metadata": {},
   "outputs": [],
   "source": [
    "plt.rcParams['figure.figsize']=(6,3)\n",
    "plt.rcParams['figure.dpi']=150"
   ]
  },
  {
   "cell_type": "code",
   "execution_count": 3,
   "metadata": {},
   "outputs": [],
   "source": [
    "t = np.linspace(0,10,1000)\n",
    "xo = 1\n",
    "vo = -4.5\n",
    "wn = 3"
   ]
  },
  {
   "cell_type": "code",
   "execution_count": 4,
   "metadata": {},
   "outputs": [],
   "source": [
    "def f(zeta):\n",
    "    s1 = wn*(-zeta + cm.sqrt(zeta**2-1))\n",
    "    s2 = wn*(-zeta - cm.sqrt(zeta**2-1))\n",
    "    A = (vo/wn + (zeta+cm.sqrt(zeta**2-1))*xo)/(2*cm.sqrt(zeta**2-1))\n",
    "    B = (-1)*(vo/wn + (zeta-cm.sqrt(zeta**2-1))*xo)/(2*cm.sqrt(zeta**2-1))\n",
    "    x = A*np.e**(s1*t) + B*np.e**(s2*t)\n",
    "    plt.plot(t,x)\n",
    "    plt.ylim(-2,2)\n",
    "    plt.xlim(0,10)\n",
    "    plt.xlabel('Tempo[s]')\n",
    "    plt.ylabel('Amplitude[m]')\n",
    "    plt.grid('True')"
   ]
  },
  {
   "cell_type": "code",
   "execution_count": 5,
   "metadata": {},
   "outputs": [
    {
     "data": {
      "application/vnd.jupyter.widget-view+json": {
       "model_id": "865c53f673fa43f5b7b176009ad1b5a1",
       "version_major": 2,
       "version_minor": 0
      },
      "text/plain": [
       "interactive(children=(FloatSlider(value=1.005, description='zeta', max=2.0, min=0.01), Output()), _dom_classes…"
      ]
     },
     "metadata": {},
     "output_type": "display_data"
    },
    {
     "data": {
      "text/plain": [
       "<function __main__.f(zeta)>"
      ]
     },
     "execution_count": 5,
     "metadata": {},
     "output_type": "execute_result"
    }
   ],
   "source": [
    "interact(f,zeta=(0.01,2))"
   ]
  }
 ],
 "metadata": {
  "kernelspec": {
   "display_name": "Python 3",
   "language": "python",
   "name": "python3"
  },
  "language_info": {
   "codemirror_mode": {
    "name": "ipython",
    "version": 3
   },
   "file_extension": ".py",
   "mimetype": "text/x-python",
   "name": "python",
   "nbconvert_exporter": "python",
   "pygments_lexer": "ipython3",
   "version": "3.8.5"
  }
 },
 "nbformat": 4,
 "nbformat_minor": 4
}
