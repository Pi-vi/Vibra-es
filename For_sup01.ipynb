{
 "cells": [
  {
   "cell_type": "markdown",
   "metadata": {},
   "source": [
    "# Exemplo - Vibrações Forçadas\n",
    "## Professor Paulo Victor"
   ]
  },
  {
   "cell_type": "markdown",
   "metadata": {},
   "source": [
    "O sistema da Figura a seguir consiste de uma haste rígida de massa desprezível e comprimento $(L+b)$, de uma massa pontual, $m$, da mola de rigidez $k$ e do amortecedor viscoso de coeficiente de amortecimento $c$. \\\\\n",
    "O eixo excêntrico impõe à extremidade do amortecedor um deslocamento harmônico $y(t) = Y.e^{i \\omega t}$ Determinar:\n",
    "1. a amplitude da pequena oscilação angular forçada $\\theta$ da haste em torno do pino $O$;\n",
    "2. a relação de fase entre $\\theta$ e y(t)\n",
    "\n",
    "![vibfor](vib-for1.png)"
   ]
  },
  {
   "cell_type": "code",
   "execution_count": 1,
   "metadata": {},
   "outputs": [],
   "source": [
    "import sympy as sy\n",
    "import sympy.physics.mechanics as me"
   ]
  },
  {
   "cell_type": "code",
   "execution_count": 2,
   "metadata": {},
   "outputs": [],
   "source": [
    "N = me.ReferenceFrame('N')\n",
    "A = me.ReferenceFrame('A')"
   ]
  },
  {
   "cell_type": "code",
   "execution_count": 3,
   "metadata": {},
   "outputs": [],
   "source": [
    "a,b,c,k,L,m,Y,omega = sy.symbols('a b c k L m Y omega')"
   ]
  },
  {
   "cell_type": "code",
   "execution_count": 4,
   "metadata": {},
   "outputs": [],
   "source": [
    "theta = me.dynamicsymbols('theta')\n",
    "t = me.dynamicsymbols._t"
   ]
  },
  {
   "cell_type": "code",
   "execution_count": 5,
   "metadata": {},
   "outputs": [],
   "source": [
    "A.orient(N,'Axis',[theta,N.z])"
   ]
  },
  {
   "cell_type": "code",
   "execution_count": 6,
   "metadata": {},
   "outputs": [],
   "source": [
    "O = me.Point('O')\n",
    "O.set_vel(N,0)"
   ]
  },
  {
   "cell_type": "code",
   "execution_count": 7,
   "metadata": {},
   "outputs": [],
   "source": [
    "P1 = me.Point('P1')\n",
    "P1.set_pos(O,-b*A.y)\n",
    "P1.set_vel(N,(-b*A.y).dt(N))"
   ]
  },
  {
   "cell_type": "code",
   "execution_count": 8,
   "metadata": {},
   "outputs": [],
   "source": [
    "P2 = me.Point('P2')\n",
    "P2.set_pos(O,a*A.y)\n",
    "P2.set_vel(N,(a*A.y).dt(N))"
   ]
  },
  {
   "cell_type": "code",
   "execution_count": 9,
   "metadata": {},
   "outputs": [],
   "source": [
    "Pm = me.Point('Pm')\n",
    "Pm.set_pos(O,L*A.y)\n",
    "Pm.set_vel(N,(L*A.y).dt(N))"
   ]
  },
  {
   "cell_type": "code",
   "execution_count": 10,
   "metadata": {},
   "outputs": [],
   "source": [
    "Par = me.Particle('Par',Pm,m)"
   ]
  },
  {
   "cell_type": "code",
   "execution_count": 11,
   "metadata": {},
   "outputs": [
    {
     "data": {
      "text/latex": [
       "$\\displaystyle L^{2} m \\dot{\\theta}\\mathbf{\\hat{a}_z}$"
      ],
      "text/plain": [
       "L**2*m*theta'*A.z"
      ]
     },
     "execution_count": 11,
     "metadata": {},
     "output_type": "execute_result"
    }
   ],
   "source": [
    "H = Par.angular_momentum(O,N)\n",
    "H"
   ]
  },
  {
   "cell_type": "code",
   "execution_count": 12,
   "metadata": {},
   "outputs": [
    {
     "data": {
      "text/latex": [
       "$\\displaystyle -  b k \\operatorname{sin}\\left(\\theta\\right)\\mathbf{\\hat{n}_x}$"
      ],
      "text/plain": [
       "- b*k*sin(theta)*N.x"
      ]
     },
     "execution_count": 12,
     "metadata": {},
     "output_type": "execute_result"
    }
   ],
   "source": [
    "Fmola = -k*P1.pos_from(O).dot(N.x)*N.x\n",
    "Fmola"
   ]
  },
  {
   "cell_type": "code",
   "execution_count": 13,
   "metadata": {},
   "outputs": [],
   "source": [
    "lin = {sy.sin(theta):theta,sy.cos(theta):1}"
   ]
  },
  {
   "cell_type": "code",
   "execution_count": 14,
   "metadata": {},
   "outputs": [
    {
     "data": {
      "text/latex": [
       "$\\displaystyle -  b k \\theta\\mathbf{\\hat{n}_x}$"
      ],
      "text/plain": [
       "- b*k*theta*N.x"
      ]
     },
     "execution_count": 14,
     "metadata": {},
     "output_type": "execute_result"
    }
   ],
   "source": [
    "Fmola = Fmola.subs(lin)\n",
    "Fmola"
   ]
  },
  {
   "cell_type": "code",
   "execution_count": 15,
   "metadata": {},
   "outputs": [
    {
     "data": {
      "text/latex": [
       "$\\displaystyle -  c \\left(- i Y \\omega e^{i \\omega t} - a \\operatorname{cos}\\left(\\theta\\right) \\dot{\\theta}\\right)\\mathbf{\\hat{n}_x}$"
      ],
      "text/plain": [
       "- c*(-I*Y*omega*exp(I*omega*t) - a*cos(theta)*theta')*N.x"
      ]
     },
     "execution_count": 15,
     "metadata": {},
     "output_type": "execute_result"
    }
   ],
   "source": [
    "Famor = -c*(P2.vel(N).dot(N.x)*N.x - sy.diff(Y*sy.E**(sy.I*omega*t),t)*N.x)\n",
    "Famor"
   ]
  },
  {
   "cell_type": "code",
   "execution_count": 16,
   "metadata": {},
   "outputs": [
    {
     "data": {
      "text/latex": [
       "$\\displaystyle (a c \\left(- i Y \\omega e^{i \\omega t} - a \\operatorname{cos}\\left(\\theta\\right) \\dot{\\theta}\\right) \\operatorname{cos}\\left(\\theta\\right) - b^{2} k \\theta \\operatorname{cos}\\left(\\theta\\right))\\mathbf{\\hat{n}_z}$"
      ],
      "text/plain": [
       "(a*c*(-I*Y*omega*exp(I*omega*t) - a*cos(theta)*theta')*cos(theta) - b**2*k*theta*cos(theta))*N.z"
      ]
     },
     "execution_count": 16,
     "metadata": {},
     "output_type": "execute_result"
    }
   ],
   "source": [
    "M_o = P1.pos_from(O).cross(Fmola) + P2.pos_from(O).cross(Famor)\n",
    "M_o"
   ]
  },
  {
   "cell_type": "code",
   "execution_count": 17,
   "metadata": {},
   "outputs": [
    {
     "data": {
      "text/latex": [
       "$\\displaystyle (a c \\left(- i Y \\omega e^{i \\omega t} - a \\dot{\\theta}\\right) - b^{2} k \\theta)\\mathbf{\\hat{n}_z}$"
      ],
      "text/plain": [
       "(a*c*(-I*Y*omega*exp(I*omega*t) - a*theta') - b**2*k*theta)*N.z"
      ]
     },
     "execution_count": 17,
     "metadata": {},
     "output_type": "execute_result"
    }
   ],
   "source": [
    "M_o = M_o.subs(lin)\n",
    "M_o"
   ]
  },
  {
   "cell_type": "code",
   "execution_count": 18,
   "metadata": {},
   "outputs": [
    {
     "data": {
      "text/latex": [
       "$\\displaystyle (L^{2} m \\ddot{\\theta} - a c \\left(- i Y \\omega e^{i \\omega t} - a \\dot{\\theta}\\right) + b^{2} k \\theta)\\mathbf{\\hat{n}_z}$"
      ],
      "text/plain": [
       "(L**2*m*theta'' - a*c*(-I*Y*omega*exp(I*omega*t) - a*theta') + b**2*k*theta)*N.z"
      ]
     },
     "execution_count": 18,
     "metadata": {},
     "output_type": "execute_result"
    }
   ],
   "source": [
    "Eqm_v = H.dt(N) - M_o\n",
    "Eqm_v.express(N)"
   ]
  },
  {
   "cell_type": "code",
   "execution_count": 19,
   "metadata": {},
   "outputs": [
    {
     "data": {
      "text/latex": [
       "$\\displaystyle L^{2} m \\frac{d^{2}}{d t^{2}} \\theta{\\left(t \\right)} - a c \\left(- i Y \\omega e^{i \\omega t} - a \\frac{d}{d t} \\theta{\\left(t \\right)}\\right) + b^{2} k \\theta{\\left(t \\right)}$"
      ],
      "text/plain": [
       "L**2*m*Derivative(theta(t), (t, 2)) - a*c*(-I*Y*omega*exp(I*omega*t) - a*Derivative(theta(t), t)) + b**2*k*theta(t)"
      ]
     },
     "execution_count": 19,
     "metadata": {},
     "output_type": "execute_result"
    }
   ],
   "source": [
    "Eqm = Eqm_v.dot(N.z)\n",
    "Eqm"
   ]
  },
  {
   "cell_type": "code",
   "execution_count": 20,
   "metadata": {},
   "outputs": [],
   "source": [
    "phi,Theta = sy.symbols('phi Theta')"
   ]
  },
  {
   "cell_type": "code",
   "execution_count": 21,
   "metadata": {},
   "outputs": [
    {
     "data": {
      "text/latex": [
       "$\\displaystyle \\Theta e^{i \\left(\\omega t - \\phi\\right)}$"
      ],
      "text/plain": [
       "Theta*exp(I*(omega*t - phi))"
      ]
     },
     "execution_count": 21,
     "metadata": {},
     "output_type": "execute_result"
    }
   ],
   "source": [
    "sol_theta = Theta*sy.E**(sy.I*(omega*t - phi))\n",
    "sol_theta"
   ]
  },
  {
   "cell_type": "code",
   "execution_count": 22,
   "metadata": {},
   "outputs": [],
   "source": [
    "sol = {theta:sol_theta}"
   ]
  },
  {
   "cell_type": "code",
   "execution_count": 23,
   "metadata": {},
   "outputs": [
    {
     "data": {
      "text/latex": [
       "$\\displaystyle L^{2} m \\frac{\\partial^{2}}{\\partial t^{2}} \\Theta e^{i \\left(\\omega t - \\phi\\right)} + \\Theta b^{2} k e^{i \\left(\\omega t - \\phi\\right)} - a c \\left(- i Y \\omega e^{i \\omega t} - a \\frac{\\partial}{\\partial t} \\Theta e^{i \\left(\\omega t - \\phi\\right)}\\right)$"
      ],
      "text/plain": [
       "L**2*m*Derivative(Theta*exp(I*(omega*t - phi)), (t, 2)) + Theta*b**2*k*exp(I*(omega*t - phi)) - a*c*(-I*Y*omega*exp(I*omega*t) - a*Derivative(Theta*exp(I*(omega*t - phi)), t))"
      ]
     },
     "execution_count": 23,
     "metadata": {},
     "output_type": "execute_result"
    }
   ],
   "source": [
    "Eqm.subs(sol)"
   ]
  },
  {
   "cell_type": "code",
   "execution_count": 24,
   "metadata": {},
   "outputs": [
    {
     "data": {
      "text/latex": [
       "$\\displaystyle - L^{2} \\Theta m \\omega^{2} e^{i \\left(\\omega t - \\phi\\right)} + \\Theta b^{2} k e^{i \\left(\\omega t - \\phi\\right)} + a c \\left(i \\Theta a \\omega e^{i \\left(\\omega t - \\phi\\right)} + i Y \\omega e^{i \\omega t}\\right)$"
      ],
      "text/plain": [
       "-L**2*Theta*m*omega**2*exp(I*(omega*t - phi)) + Theta*b**2*k*exp(I*(omega*t - phi)) + a*c*(I*Theta*a*omega*exp(I*(omega*t - phi)) + I*Y*omega*exp(I*omega*t))"
      ]
     },
     "execution_count": 24,
     "metadata": {},
     "output_type": "execute_result"
    }
   ],
   "source": [
    "Eqm = Eqm.subs(sol).simplify()\n",
    "Eqm"
   ]
  },
  {
   "cell_type": "code",
   "execution_count": 25,
   "metadata": {},
   "outputs": [
    {
     "data": {
      "text/latex": [
       "$\\displaystyle - \\frac{i Y a c \\omega e^{i \\phi}}{- L^{2} m \\omega^{2} + i a^{2} c \\omega + b^{2} k}$"
      ],
      "text/plain": [
       "-I*Y*a*c*omega*exp(I*phi)/(-L**2*m*omega**2 + I*a**2*c*omega + b**2*k)"
      ]
     },
     "execution_count": 25,
     "metadata": {},
     "output_type": "execute_result"
    }
   ],
   "source": [
    "s1 = sy.solve(Eqm,Theta)[0]\n",
    "s1"
   ]
  },
  {
   "cell_type": "code",
   "execution_count": 26,
   "metadata": {},
   "outputs": [
    {
     "data": {
      "text/latex": [
       "$\\displaystyle - \\frac{i a c \\omega}{- L^{2} m \\omega^{2} + i a^{2} c \\omega + b^{2} k}$"
      ],
      "text/plain": [
       "-I*a*c*omega/(-L**2*m*omega**2 + I*a**2*c*omega + b**2*k)"
      ]
     },
     "execution_count": 26,
     "metadata": {},
     "output_type": "execute_result"
    }
   ],
   "source": [
    "s2 = s1/(Y*sy.E**(sy.I*phi))\n",
    "s2"
   ]
  },
  {
   "cell_type": "code",
   "execution_count": 27,
   "metadata": {},
   "outputs": [
    {
     "data": {
      "text/latex": [
       "$\\displaystyle - a c \\omega$"
      ],
      "text/plain": [
       "-a*c*omega"
      ]
     },
     "execution_count": 27,
     "metadata": {},
     "output_type": "execute_result"
    }
   ],
   "source": [
    "num = -a*c*omega\n",
    "num"
   ]
  },
  {
   "cell_type": "code",
   "execution_count": 28,
   "metadata": {},
   "outputs": [
    {
     "data": {
      "text/latex": [
       "$\\displaystyle - L^{2} m \\omega^{2} + b^{2} k$"
      ],
      "text/plain": [
       "-L**2*m*omega**2 + b**2*k"
      ]
     },
     "execution_count": 28,
     "metadata": {},
     "output_type": "execute_result"
    }
   ],
   "source": [
    "den_real = b**2*k - L**2*m*omega**2\n",
    "den_real"
   ]
  },
  {
   "cell_type": "code",
   "execution_count": 29,
   "metadata": {},
   "outputs": [
    {
     "data": {
      "text/latex": [
       "$\\displaystyle a^{2} c \\omega$"
      ],
      "text/plain": [
       "a**2*c*omega"
      ]
     },
     "execution_count": 29,
     "metadata": {},
     "output_type": "execute_result"
    }
   ],
   "source": [
    "den_im = a**2*c*omega\n",
    "den_im"
   ]
  },
  {
   "cell_type": "code",
   "execution_count": 30,
   "metadata": {},
   "outputs": [
    {
     "data": {
      "text/latex": [
       "$\\displaystyle \\frac{\\sqrt{a^{2} c^{2} \\omega^{2}}}{\\sqrt{a^{4} c^{2} \\omega^{2} + \\left(- L^{2} m \\omega^{2} + b^{2} k\\right)^{2}}}$"
      ],
      "text/plain": [
       "sqrt(a**2*c**2*omega**2)/sqrt(a**4*c**2*omega**2 + (-L**2*m*omega**2 + b**2*k)**2)"
      ]
     },
     "execution_count": 30,
     "metadata": {},
     "output_type": "execute_result"
    }
   ],
   "source": [
    "Amp = sy.sqrt(num**2)/sy.sqrt(den_real**2 + den_im**2)\n",
    "Amp"
   ]
  },
  {
   "cell_type": "code",
   "execution_count": 31,
   "metadata": {},
   "outputs": [
    {
     "data": {
      "text/latex": [
       "$\\displaystyle \\frac{a^{2} c \\omega}{- L^{2} m \\omega^{2} + b^{2} k}$"
      ],
      "text/plain": [
       "a**2*c*omega/(-L**2*m*omega**2 + b**2*k)"
      ]
     },
     "execution_count": 31,
     "metadata": {},
     "output_type": "execute_result"
    }
   ],
   "source": [
    "tan_phi = den_im/den_real\n",
    "tan_phi"
   ]
  }
 ],
 "metadata": {
  "kernelspec": {
   "display_name": "Python 3",
   "language": "python",
   "name": "python3"
  },
  "language_info": {
   "codemirror_mode": {
    "name": "ipython",
    "version": 3
   },
   "file_extension": ".py",
   "mimetype": "text/x-python",
   "name": "python",
   "nbconvert_exporter": "python",
   "pygments_lexer": "ipython3",
   "version": "3.8.5"
  }
 },
 "nbformat": 4,
 "nbformat_minor": 4
}
