{
 "cells": [
  {
   "cell_type": "markdown",
   "metadata": {},
   "source": [
    "# Atuador Solenoide\n",
    "Professor Paulo Victor <br>\n",
    "Fonte: Kluever, Craig A., **Sistemas Dinâmicos: Modelagem, Simulação e Controle**, 1ª Ed., Rio de Janeiro: LTC, 2018. "
   ]
  },
  {
   "cell_type": "markdown",
   "metadata": {},
   "source": [
    "## Introdução\n",
    "Um atuador solenoide é um dispositivo eletromecânico que converte energia elétrica (fonte de tensão) em energia mecânica (movimento de translação) mediante o emprego de alguns princípios básicos de corrente-magnetismo que representam a operação de um motor CC.<br>\n",
    "Um atuador solenoide consiste em uma bobina de fio com um núcleo de ferro (a armadura ou pistão) que se move para dentro e para fora do centro da bobina. <br>"
   ]
  },
  {
   "cell_type": "markdown",
   "metadata": {},
   "source": [
    "![](solenoide2.png)"
   ]
  },
  {
   "cell_type": "markdown",
   "metadata": {},
   "source": [
    "![](solenoide1.png)"
   ]
  },
  {
   "cell_type": "markdown",
   "metadata": {},
   "source": [
    "A indutância da bobina do atuador solenoide é uma função não linear da posição da armadura. A indutância (e consequentemente, o fluxo magnético) diminui conforme a armadura se afasta da bobina e aumenta quando a armadura se aproxima do centro da bobina. <br>\n",
    "Um método aceitável para modelar a indutância da bobina é empregar a expressão não linear:\n",
    "$$L(x) = \\dfrac{c}{d-x} = \\dfrac{L_0}{1-x/d}$$\n",
    "As constantes $c$ e $d$ dependem do material da bobina do solenoide. A indutância quando $x=0$ é:\n",
    "$$L_0 = \\dfrac{\\mu A N^2}{l}$$\n",
    "Onde $N$ é o número de voltas da bobina, $A$ é a área do entreferro, $l$ é o comprimento da bobina, e $\\mu$ é a permeabilidade magnética do ar e do núcleo de ferro. A indutância mínima $L_0$ da bobina é uma constante conhecida dados os valores de $A$, $N$, $l$ e $\\mu$."
   ]
  },
  {
   "cell_type": "markdown",
   "metadata": {},
   "source": [
    "Assim como no motor CC, o modelo matemático completo do atuador solenoide será desenvolvido pela aplicações das leis de Kirchhoff no circuito da armadura e as leis de Newton ao elemento de massa única. "
   ]
  },
  {
   "cell_type": "markdown",
   "metadata": {},
   "source": [
    "![](solenoide3.png)"
   ]
  },
  {
   "cell_type": "markdown",
   "metadata": {},
   "source": [
    "Obtenção da tensão no indutor do solenoide em função da derivada no tempo do enlace de fluxo magnético\n",
    "$$ \\lambda = e_L$$\n",
    "Onde: \n",
    "$$ \\lambda = \\dfrac{dL}{dt} I + L \\dfrac{dI}{dt} $$\n",
    "Usando a regra da cadeia:\n",
    "$$ \\lambda = \\dfrac{dL}{dx} \\dfrac{dx}{dt}I + L \\dfrac{dI}{dt} $$\n",
    "De forma mais compacta:\n",
    "$$ \\lambda = L_x \\dot{x}I + L(x) \\dot{I}$$"
   ]
  },
  {
   "cell_type": "markdown",
   "metadata": {},
   "source": [
    "Podemos escrever $L_x$ como:\n",
    "$$L_x = \\dfrac{dL}{dx} = \\dfrac{L_0}{d(1-x/d)^2}$$.\n",
    "Utilizando a equação de Kirchhoff:\n",
    "$$L(x) + RI = e_{ent}(t) - L_x \\dot{x} I $$"
   ]
  },
  {
   "cell_type": "markdown",
   "metadata": {},
   "source": [
    "![](solenoide4.png)"
   ]
  },
  {
   "cell_type": "markdown",
   "metadata": {},
   "source": [
    "**Equação de movimento**\n",
    "$$F_{em} - kx - b \\dot{x} = m \\ddot{x} $$\n",
    "Reorganizando:\n",
    "$$m \\ddot{x} + b \\dot{x} + k x = F_{em} $$"
   ]
  },
  {
   "cell_type": "markdown",
   "metadata": {},
   "source": [
    "De modo a completar o modelo é necessária uma expressão para a força eletromagnética $F_{em}$, que é gerada pela energia armazenada na bobina do solenoide. A partir do princípio de trabalho e energia, sabe-se que o produto da força eletromagnética e de um deslocamento incremental $dx$ é igual a uma variação incrementatal na energia $d \\xi$\n",
    "$$ F_{em} dx = d \\xi $$\n",
    "Resolvendo para a força eletromagnética:\n",
    "$$F_{em} = \\dfrac{d \\xi}{dx} $$\n",
    "A energia armazenada em um indutor é devida à indutância e à corrente:\n",
    "$$\\xi = \\dfrac{1}{2}LI^2 $$\n",
    "Portanto, tomando a derivada da energia em relação ao deslocamento $x$ e susbstituindo na equação da $F_{em}$, tem-se uma expressão para a força eletromagnética:\n",
    "$$F_{em} = \\dfrac{1}{2} \\dfrac{dL}{dx} I^{2} $$"
   ]
  },
  {
   "cell_type": "markdown",
   "metadata": {},
   "source": [
    "Pode-se ver que a força eletromagnética é uma função não linear da corrente e do deslocamento, pois a derivada $L_x$ é uma função não linear de $x$. <br>\n",
    "O modelo matemático completo do atuador solenoide consiste em uma equação para o sistema elétrico e uma para o sistema mecânico juntamente com a equação usada para definir a força eletromagnética. \n",
    "$$L(x) \\dot{I} + R I = e_{ent}(t) - L_{x}\\dot{x} I $$\n",
    "$$m \\ddot{x} + b \\dot{x} + k x = \\dfrac{1}{2} L_{x} I^{2} $$"
   ]
  },
  {
   "cell_type": "code",
   "execution_count": 1,
   "metadata": {},
   "outputs": [],
   "source": [
    "import sympy as sy"
   ]
  },
  {
   "cell_type": "code",
   "execution_count": 2,
   "metadata": {},
   "outputs": [],
   "source": [
    "x,v,I,eent,m,b,k,R,d,mu,A,N,l = sy.symbols('x v I eent m b k R,d,mu,A,N,l')"
   ]
  },
  {
   "cell_type": "code",
   "execution_count": 3,
   "metadata": {},
   "outputs": [
    {
     "data": {
      "text/latex": [
       "$\\displaystyle \\frac{A N^{2} \\mu}{l}$"
      ],
      "text/plain": [
       "A*N**2*mu/l"
      ]
     },
     "execution_count": 3,
     "metadata": {},
     "output_type": "execute_result"
    }
   ],
   "source": [
    "L0 = (mu*A*N**2)/(l)\n",
    "L0"
   ]
  },
  {
   "cell_type": "code",
   "execution_count": 4,
   "metadata": {},
   "outputs": [
    {
     "data": {
      "text/latex": [
       "$\\displaystyle \\frac{A N^{2} \\mu}{l \\left(1 - \\frac{x}{d}\\right)}$"
      ],
      "text/plain": [
       "A*N**2*mu/(l*(1 - x/d))"
      ]
     },
     "execution_count": 4,
     "metadata": {},
     "output_type": "execute_result"
    }
   ],
   "source": [
    "L = L0/(1-x/d)\n",
    "L"
   ]
  },
  {
   "cell_type": "markdown",
   "metadata": {},
   "source": [
    "### Equações:"
   ]
  },
  {
   "cell_type": "markdown",
   "metadata": {},
   "source": [
    "$$\\dot{x} = v$$"
   ]
  },
  {
   "cell_type": "code",
   "execution_count": 5,
   "metadata": {},
   "outputs": [],
   "source": [
    "xd = v"
   ]
  },
  {
   "cell_type": "markdown",
   "metadata": {},
   "source": [
    "$$\\dot{I} = (e_{ent}(t) - RI - L_{x} v I)/L(x) $$ "
   ]
  },
  {
   "cell_type": "code",
   "execution_count": 6,
   "metadata": {},
   "outputs": [
    {
     "data": {
      "text/latex": [
       "$\\displaystyle \\frac{l \\left(1 - \\frac{x}{d}\\right) \\left(- \\frac{A I N^{2} \\mu v}{d l \\left(1 - \\frac{x}{d}\\right)^{2}} - I R + eent\\right)}{A N^{2} \\mu}$"
      ],
      "text/plain": [
       "l*(1 - x/d)*(-A*I*N**2*mu*v/(d*l*(1 - x/d)**2) - I*R + eent)/(A*N**2*mu)"
      ]
     },
     "execution_count": 6,
     "metadata": {},
     "output_type": "execute_result"
    }
   ],
   "source": [
    "Id = (eent - R*I - L.diff(x)*v*I)/L\n",
    "Id"
   ]
  },
  {
   "cell_type": "markdown",
   "metadata": {},
   "source": [
    "$$\\dot{v} = (-bv - kx + \\dfrac{1}{2}L_{x}I^2)/m$$"
   ]
  },
  {
   "cell_type": "code",
   "execution_count": 7,
   "metadata": {},
   "outputs": [
    {
     "data": {
      "text/latex": [
       "$\\displaystyle \\frac{\\frac{A I^{2} N^{2} \\mu}{2 d l \\left(1 - \\frac{x}{d}\\right)^{2}} - b v - k x}{m}$"
      ],
      "text/plain": [
       "(A*I**2*N**2*mu/(2*d*l*(1 - x/d)**2) - b*v - k*x)/m"
      ]
     },
     "execution_count": 7,
     "metadata": {},
     "output_type": "execute_result"
    }
   ],
   "source": [
    "vd = (-b*v - k*x + (L.diff(x)*I**2)/2)/m\n",
    "vd"
   ]
  },
  {
   "cell_type": "markdown",
   "metadata": {},
   "source": [
    "### Parâmetros"
   ]
  },
  {
   "cell_type": "code",
   "execution_count": 8,
   "metadata": {},
   "outputs": [],
   "source": [
    "dic1 = {m:1,b:0.01,k:500,R:1,d:0.001,mu:1*10**(-8),A:0.003,N:100,l:1}"
   ]
  },
  {
   "cell_type": "code",
   "execution_count": 9,
   "metadata": {},
   "outputs": [],
   "source": [
    "from numpy import linspace"
   ]
  },
  {
   "cell_type": "code",
   "execution_count": 10,
   "metadata": {},
   "outputs": [],
   "source": [
    "n = 1000 # número de pontos para a simulação\n",
    "t0 = 0 # tempo inicial de simulação\n",
    "tf = 5 # tempo final de simulação"
   ]
  },
  {
   "cell_type": "code",
   "execution_count": 11,
   "metadata": {},
   "outputs": [],
   "source": [
    "t_n = linspace(t0,tf,n)"
   ]
  },
  {
   "cell_type": "code",
   "execution_count": 12,
   "metadata": {},
   "outputs": [],
   "source": [
    "def eent_n(t):\n",
    "    return 45"
   ]
  },
  {
   "cell_type": "markdown",
   "metadata": {},
   "source": [
    "Condições Iniciais:"
   ]
  },
  {
   "cell_type": "code",
   "execution_count": 13,
   "metadata": {},
   "outputs": [],
   "source": [
    "x0 = 0\n",
    "v0 = 1\n",
    "I0 = 5\n",
    "X0=[x0,v0,I0]"
   ]
  },
  {
   "cell_type": "markdown",
   "metadata": {},
   "source": [
    "Criação de função para receber as 3 EDOs de primeira ordem:"
   ]
  },
  {
   "cell_type": "code",
   "execution_count": 14,
   "metadata": {},
   "outputs": [],
   "source": [
    "def Modelo(X,T):\n",
    "    dic1.update({x:X[0],v:X[1],I:X[2]})\n",
    "    dic1.update({eent:eent_n(T)})\n",
    "    xdn = X[1]\n",
    "    vdn = vd.subs(dic1)\n",
    "    Idn = Id.subs(dic1)\n",
    "    return [xdn,vdn,Idn]"
   ]
  },
  {
   "cell_type": "markdown",
   "metadata": {},
   "source": [
    "### Integração Numérica"
   ]
  },
  {
   "cell_type": "code",
   "execution_count": 15,
   "metadata": {},
   "outputs": [],
   "source": [
    "from scipy.integrate import odeint"
   ]
  },
  {
   "cell_type": "code",
   "execution_count": 16,
   "metadata": {},
   "outputs": [
    {
     "name": "stderr",
     "output_type": "stream",
     "text": [
      "/home/pv/.local/lib/python3.8/site-packages/scipy/integrate/odepack.py:247: ODEintWarning: Excess work done on this call (perhaps wrong Dfun type). Run with full_output = 1 to get quantitative information.\n",
      "  warnings.warn(warning_msg, ODEintWarning)\n"
     ]
    }
   ],
   "source": [
    "X = odeint(Modelo,X0,t_n)"
   ]
  },
  {
   "cell_type": "code",
   "execution_count": 17,
   "metadata": {},
   "outputs": [],
   "source": [
    "import matplotlib.pyplot as plt"
   ]
  },
  {
   "cell_type": "code",
   "execution_count": 18,
   "metadata": {},
   "outputs": [
    {
     "data": {
      "image/png": "[encoded data removed]",
      "text/plain": [
       "<Figure size 432x288 with 1 Axes>"
      ]
     },
     "metadata": {
      "needs_background": "light"
     },
     "output_type": "display_data"
    }
   ],
   "source": [
    "plt.figure()\n",
    "plt.plot(t_n,X[:,0])\n",
    "plt.xlabel('Tempo [s]')\n",
    "plt.ylabel('Deslocamento [m]')\n",
    "plt.title('Deslocamento pelo tempo')\n",
    "plt.grid(True)"
   ]
  },
  {
   "cell_type": "code",
   "execution_count": 19,
   "metadata": {},
   "outputs": [
    {
     "data": {
      "image/png": "[encoded data removed]",
      "text/plain": [
       "<Figure size 432x288 with 1 Axes>"
      ]
     },
     "metadata": {
      "needs_background": "light"
     },
     "output_type": "display_data"
    }
   ],
   "source": [
    "plt.figure()\n",
    "plt.plot(t_n,X[:,1])\n",
    "plt.xlabel('Tempo [s]')\n",
    "plt.ylabel('Velocidade [m/s]')\n",
    "plt.title('Velocidade pelo tempo')\n",
    "plt.grid(True)"
   ]
  },
  {
   "cell_type": "code",
   "execution_count": 20,
   "metadata": {},
   "outputs": [
    {
     "data": {
      "image/png": "[encoded data removed]",
      "text/plain": [
       "<Figure size 432x288 with 1 Axes>"
      ]
     },
     "metadata": {
      "needs_background": "light"
     },
     "output_type": "display_data"
    }
   ],
   "source": [
    "plt.figure()\n",
    "plt.plot(t_n,X[:,2])\n",
    "plt.xlabel('Tempo [s]')\n",
    "plt.ylabel('Corrente Elétrica [A]')\n",
    "plt.title('Corrente Elétrica pelo tempo')\n",
    "plt.grid(True)"
   ]
  },
  {
   "cell_type": "code",
   "execution_count": null,
   "metadata": {},
   "outputs": [],
   "source": []
  }
 ],
 "metadata": {
  "kernelspec": {
   "display_name": "Python 3",
   "language": "python",
   "name": "python3"
  },
  "language_info": {
   "codemirror_mode": {
    "name": "ipython",
    "version": 3
   },
   "file_extension": ".py",
   "mimetype": "text/x-python",
   "name": "python",
   "nbconvert_exporter": "python",
   "pygments_lexer": "ipython3",
   "version": "3.8.5"
  }
 },
 "nbformat": 4,
 "nbformat_minor": 4
}
